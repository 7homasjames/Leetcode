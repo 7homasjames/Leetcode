{
 "cells": [
  {
   "cell_type": "markdown",
   "id": "1999fdc3",
   "metadata": {},
   "source": [
    "### Given a string s, return the longest palindromic substring in s.\n",
    "\n",
    " \n"
   ]
  },
  {
   "cell_type": "code",
   "execution_count": 1,
   "id": "b0bb6616",
   "metadata": {},
   "outputs": [],
   "source": [
    "class Solution(object):\n",
    "    def longestPalindrome(self, s):\n",
    "        \"\"\"\n",
    "        :type s: str\n",
    "        :rtype: str\n",
    "        \"\"\"\n",
    "        res = \"\"\n",
    "        reslen = 0\n",
    "\n",
    "        for i in range(len(s)):\n",
    "            #odd\n",
    "            l, r = i, i\n",
    "            while l >= 0 and r < len(s) and s[l] == s[r]:\n",
    "                if (r-l+1) > reslen:\n",
    "                    res = s[l:r+1]\n",
    "                    reslen = r-l+1\n",
    "                l -= 1\n",
    "                r += 1\n",
    "\n",
    "            #even\n",
    "            l,r = i,i+1\n",
    "            while l>=0 and r<len(s) and s[l] ==s[r]:\n",
    "                if (r-l+1) > reslen:\n",
    "                    res = s[l:r+1]\n",
    "                    reslen = r-l+1\n",
    "                l-=1\n",
    "                r+=1\n",
    "\n",
    "        return res \n"
   ]
  },
  {
   "cell_type": "markdown",
   "id": "85755731",
   "metadata": {},
   "source": [
    "\n",
    "#### Example 1:\n",
    "\n",
    "#### Input: s = \"babad\"\n",
    "#### Output: \"bab\""
   ]
  },
  {
   "cell_type": "code",
   "execution_count": 3,
   "id": "631a22a4",
   "metadata": {},
   "outputs": [
    {
     "data": {
      "text/plain": [
       "'bab'"
      ]
     },
     "execution_count": 3,
     "metadata": {},
     "output_type": "execute_result"
    }
   ],
   "source": [
    "s = \"babad\"\n",
    "soln = Solution()\n",
    "soln.longestPalindrome(s)"
   ]
  }
 ],
 "metadata": {
  "kernelspec": {
   "display_name": "Python 3 (ipykernel)",
   "language": "python",
   "name": "python3"
  },
  "language_info": {
   "codemirror_mode": {
    "name": "ipython",
    "version": 3
   },
   "file_extension": ".py",
   "mimetype": "text/x-python",
   "name": "python",
   "nbconvert_exporter": "python",
   "pygments_lexer": "ipython3",
   "version": "3.9.12"
  }
 },
 "nbformat": 4,
 "nbformat_minor": 5
}
