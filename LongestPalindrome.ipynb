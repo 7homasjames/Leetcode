{
 "cells": [
  {
   "cell_type": "markdown",
   "id": "e9e34348",
   "metadata": {},
   "source": [
    "### Given a string s which consists of lowercase or uppercase letters, return the length of the longest palindrome that can be built with those letters.\n",
    "\n",
    "##### Letters are case sensitive, for example, \"Aa\" is not considered a palindrome."
   ]
  },
  {
   "cell_type": "code",
   "execution_count": 4,
   "id": "9cd74c08",
   "metadata": {},
   "outputs": [],
   "source": [
    "from collections import defaultdict\n",
    "\n",
    "class PalindromeCalculator:\n",
    "    def __init__(self, s):\n",
    "        self.s = s\n",
    "        self.count = defaultdict(int)\n",
    "        self.result = 0\n",
    "        \n",
    "    def calculate_palindrome_length(self):\n",
    "        # Count occurrences of each character\n",
    "        for c in self.s:\n",
    "            self.count[c] += 1\n",
    "            if self.count[c] % 2 == 0:\n",
    "                self.result += 2\n",
    "        \n",
    "        # Check if we can have an odd character in the middle\n",
    "        for cnt in self.count.values():\n",
    "            if cnt % 2 != 0:\n",
    "                self.result += 1\n",
    "                break\n",
    "                \n",
    "        return self.result "
   ]
  },
  {
   "cell_type": "markdown",
   "id": "982b5b29",
   "metadata": {},
   "source": [
    "#### Example Usage"
   ]
  },
  {
   "cell_type": "code",
   "execution_count": 2,
   "id": "f5924974",
   "metadata": {},
   "outputs": [
    {
     "name": "stdout",
     "output_type": "stream",
     "text": [
      "7\n"
     ]
    }
   ],
   "source": [
    "palindrome = PalindromeCalculator(\"abccccdd\")\n",
    "length = palindrome.calculate_palindrome_length()\n",
    "print(length)\n"
   ]
  },
  {
   "cell_type": "code",
   "execution_count": 3,
   "id": "3ab7be5d",
   "metadata": {},
   "outputs": [
    {
     "name": "stdout",
     "output_type": "stream",
     "text": [
      "9\n"
     ]
    }
   ],
   "source": [
    "palindrome = PalindromeCalculator(\"malayalam\")\n",
    "length = palindrome.calculate_palindrome_length()\n",
    "print(length)"
   ]
  }
 ],
 "metadata": {
  "kernelspec": {
   "display_name": "Python 3 (ipykernel)",
   "language": "python",
   "name": "python3"
  },
  "language_info": {
   "codemirror_mode": {
    "name": "ipython",
    "version": 3
   },
   "file_extension": ".py",
   "mimetype": "text/x-python",
   "name": "python",
   "nbconvert_exporter": "python",
   "pygments_lexer": "ipython3",
   "version": "3.9.12"
  }
 },
 "nbformat": 4,
 "nbformat_minor": 5
}
